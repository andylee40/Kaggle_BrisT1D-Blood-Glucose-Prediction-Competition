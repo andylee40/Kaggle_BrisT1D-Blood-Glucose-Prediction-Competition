{
 "cells": [
  {
   "cell_type": "code",
   "execution_count": 1,
   "id": "e4c44d03-1fc2-44cb-9982-ec963b7c8661",
   "metadata": {},
   "outputs": [],
   "source": [
    "import pandas as pd\n",
    "import numpy as np"
   ]
  },
  {
   "cell_type": "code",
   "execution_count": 2,
   "id": "1ecf3d7a-cc68-4631-82ce-130c1ca15a97",
   "metadata": {},
   "outputs": [
    {
     "name": "stderr",
     "output_type": "stream",
     "text": [
      "/tmp/ipykernel_4489/2959942666.py:1: DtypeWarning: Columns (435,436,437,438,439,440,441,442,443,444,445,446,447,448,449,450,451,452,453,454,455,456,457,458,459,460,461,462,463,464,465,466,467,468,469,470,471,472,473,474,475,476,477,478,479,480,481,482,483,484,485,486,487,488,489,490,491,492,493,494,495,496,497,498,499,500,501,502,503,504,505,506) have mixed types. Specify dtype option on import or set low_memory=False.\n",
      "  train=pd.read_csv('train.csv')\n"
     ]
    }
   ],
   "source": [
    "train=pd.read_csv('train.csv')\n",
    "test=pd.read_csv('test.csv')"
   ]
  },
  {
   "cell_type": "code",
   "execution_count": 48,
   "id": "ba7c898f-608c-43b3-9799-07047bbabb1e",
   "metadata": {},
   "outputs": [
    {
     "name": "stdout",
     "output_type": "stream",
     "text": [
      "(177024, 508) (3644, 507)\n"
     ]
    }
   ],
   "source": [
    "print(train.shape,test.shape)"
   ]
  },
  {
   "cell_type": "code",
   "execution_count": 3,
   "id": "f44634b1-b996-4685-95a3-be1057e74ffd",
   "metadata": {},
   "outputs": [
    {
     "data": {
      "text/plain": [
       "Index(['id', 'p_num', 'time', 'bg-5:55', 'bg-5:50', 'bg-5:45', 'bg-5:40',\n",
       "       'bg-5:35', 'bg-5:30', 'bg-5:25',\n",
       "       ...\n",
       "       'activity-0:40', 'activity-0:35', 'activity-0:30', 'activity-0:25',\n",
       "       'activity-0:20', 'activity-0:15', 'activity-0:10', 'activity-0:05',\n",
       "       'activity-0:00', 'bg+1:00'],\n",
       "      dtype='object', length=508)"
      ]
     },
     "execution_count": 3,
     "metadata": {},
     "output_type": "execute_result"
    }
   ],
   "source": [
    "train.columns"
   ]
  },
  {
   "cell_type": "code",
   "execution_count": 4,
   "id": "97afe095-d1d8-4d30-b4fe-974e25d38192",
   "metadata": {},
   "outputs": [
    {
     "name": "stdout",
     "output_type": "stream",
     "text": [
      "<class 'pandas.core.frame.DataFrame'>\n",
      "RangeIndex: 177024 entries, 0 to 177023\n",
      "Columns: 508 entries, id to bg+1:00\n",
      "dtypes: float64(433), object(75)\n",
      "memory usage: 686.1+ MB\n"
     ]
    }
   ],
   "source": [
    "train.info()"
   ]
  },
  {
   "cell_type": "code",
   "execution_count": 5,
   "id": "e1d388f9-e1c0-499f-bab1-bef1b3af0328",
   "metadata": {},
   "outputs": [
    {
     "data": {
      "text/plain": [
       "id                0.000000\n",
       "p_num             0.000000\n",
       "time              0.000000\n",
       "bg-5:55          15.395653\n",
       "bg-5:50          10.445476\n",
       "                   ...    \n",
       "activity-0:15    98.457271\n",
       "activity-0:10    98.453882\n",
       "activity-0:05    98.444844\n",
       "activity-0:00    98.453882\n",
       "bg+1:00           0.000000\n",
       "Length: 508, dtype: float64"
      ]
     },
     "execution_count": 5,
     "metadata": {},
     "output_type": "execute_result"
    }
   ],
   "source": [
    "train.isnull().mean()*100"
   ]
  },
  {
   "cell_type": "code",
   "execution_count": 6,
   "id": "6e23022f-eeeb-4ba2-9e26-5a9f65e12700",
   "metadata": {},
   "outputs": [
    {
     "data": {
      "text/plain": [
       "44.80774393863051"
      ]
     },
     "execution_count": 6,
     "metadata": {},
     "output_type": "execute_result"
    }
   ],
   "source": [
    "(train.isnull().mean()*100).values.mean()"
   ]
  },
  {
   "cell_type": "code",
   "execution_count": 7,
   "id": "62a5b2d9-a389-429d-9aab-d86c4e67ebbc",
   "metadata": {},
   "outputs": [
    {
     "data": {
      "text/plain": [
       "46.67958136040548"
      ]
     },
     "execution_count": 7,
     "metadata": {},
     "output_type": "execute_result"
    }
   ],
   "source": [
    "(test.isnull().mean()*100).values.mean()"
   ]
  },
  {
   "cell_type": "code",
   "execution_count": 8,
   "id": "25e65b95-849d-4a6e-a25c-31fe3ff009f9",
   "metadata": {},
   "outputs": [
    {
     "data": {
      "text/plain": [
       "bg-5:55    15.395653\n",
       "bg-5:50    10.445476\n",
       "bg-5:45     7.716468\n",
       "bg-5:40    15.397912\n",
       "bg-5:35    10.603082\n",
       "             ...    \n",
       "bg-0:15     1.848337\n",
       "bg-0:10    14.586723\n",
       "bg-0:05    13.804908\n",
       "bg-0:00     1.522957\n",
       "bg+1:00     0.000000\n",
       "Length: 73, dtype: float64"
      ]
     },
     "execution_count": 8,
     "metadata": {},
     "output_type": "execute_result"
    }
   ],
   "source": [
    "# len([col for col in train_cleaned.columns if col.startswith('carbs')])\n",
    "train[[col for col in train.columns if col.startswith('bg')]].isnull().mean()*100"
   ]
  },
  {
   "cell_type": "markdown",
   "id": "4315821c-23b4-4b4d-bf20-4604ab286d7e",
   "metadata": {},
   "source": [
    "## 降低記憶體消耗"
   ]
  },
  {
   "cell_type": "code",
   "execution_count": 9,
   "id": "407bf245-3a60-45b6-8130-89578e1bafde",
   "metadata": {},
   "outputs": [
    {
     "name": "stdout",
     "output_type": "stream",
     "text": [
      "Memory usage before optimization: 686.10 MB\n",
      "Memory usage after optimization: 311.18 MB\n",
      "Reduced by 54.6%\n",
      "Memory usage before optimization: 14.10 MB\n",
      "Memory usage after optimization: 6.46 MB\n",
      "Reduced by 54.2%\n"
     ]
    }
   ],
   "source": [
    "def reduce_memory(df):\n",
    "    ##bytes to MB\n",
    "    start_mem = df.memory_usage().sum() / 1024**2\n",
    "    print(f\"Memory usage before optimization: {start_mem:.2f} MB\")\n",
    "\n",
    "    for col in df.columns:\n",
    "        col_type = df[col].dtype\n",
    "\n",
    "        if col_type != object:\n",
    "            if str(col_type).startswith(\"int\"):\n",
    "                df[col] = pd.to_numeric(df[col], downcast=\"integer\")\n",
    "            elif str(col_type).startswith(\"float\"):\n",
    "                df[col] = pd.to_numeric(df[col], downcast=\"float\")\n",
    "        else:\n",
    "            df[col] = df[col].astype(\"category\")\n",
    "\n",
    "    end_mem = df.memory_usage().sum() / 1024**2\n",
    "    print(f\"Memory usage after optimization: {end_mem:.2f} MB\")\n",
    "    print(f\"Reduced by {(100 * (start_mem - end_mem) / start_mem):.1f}%\")\n",
    "\n",
    "    return df\n",
    "\n",
    "# Apply memory reduction\n",
    "train = reduce_memory(train)\n",
    "test = reduce_memory(test)"
   ]
  },
  {
   "cell_type": "markdown",
   "id": "44b43fbe-354a-4d7a-868b-d3b0b4801247",
   "metadata": {},
   "source": [
    "## 特徵篩選"
   ]
  },
  {
   "cell_type": "code",
   "execution_count": 46,
   "id": "e3ddae8a-a94c-47f5-98a0-b4364c364456",
   "metadata": {},
   "outputs": [
    {
     "name": "stdout",
     "output_type": "stream",
     "text": [
      "bg-5:55      0.180896\n",
      "bg-5:50      0.167134\n",
      "bg-5:45      0.169330\n",
      "bg-5:40      0.181056\n",
      "bg-5:35      0.167420\n",
      "               ...   \n",
      "cals-0:15   -0.045281\n",
      "cals-0:10   -0.046652\n",
      "cals-0:05   -0.047248\n",
      "cals-0:00   -0.047158\n",
      "bg+1:00      1.000000\n",
      "Name: bg+1:00, Length: 433, dtype: float64\n"
     ]
    }
   ],
   "source": [
    "target_column = 'bg+1:00'\n",
    "numerical_columns = train.select_dtypes(include=['number']).columns\n",
    "if target_column not in numerical_columns:\n",
    "    raise ValueError(f\"Target column '{target_column}' is not numerical.\")\n",
    "correlation_matrix = train[numerical_columns].corr(method='spearman')\n",
    "correlations_with_target = correlation_matrix[target_column]\n",
    "print(correlations_with_target)"
   ]
  },
  {
   "cell_type": "code",
   "execution_count": 47,
   "id": "6ffa6eaf-7291-4c09-9ffe-108df0284a63",
   "metadata": {},
   "outputs": [
    {
     "name": "stdout",
     "output_type": "stream",
     "text": [
      "所有特徵有293個，相關性大於0.1的特徵有128個：\n",
      "所有特徵有293個，相關性大於0.2的特徵有40個：\n",
      "所有特徵有293個，相關性大於0.3的特徵有20個：\n",
      "所有特徵有293個，相關性大於0.4的特徵有12個：\n",
      "所有特徵有293個，相關性大於0.5的特徵有6個：\n",
      "所有特徵有293個，相關性大於0.6的特徵有2個：\n",
      "所有特徵有293個，相關性大於0.7的特徵有0個：\n",
      "所有特徵有293個，相關性大於0.8的特徵有0個：\n",
      "所有特徵有293個，相關性大於0.9的特徵有0個：\n"
     ]
    }
   ],
   "source": [
    "for threshold in np.arange(0.1, 1.0, 0.1):\n",
    "    # threshold=0.2\n",
    "    threshold=round(threshold,1)\n",
    "    high_correlation_features = correlations_with_target[correlations_with_target.abs() > threshold].index.tolist()\n",
    "    high_correlation_features.remove(target_column)\n",
    "    print(\"所有特徵有{}個，相關性大於{}的特徵有{}個：\".format(len(train_cleaned.columns)-1,threshold,len(high_correlation_features)))"
   ]
  },
  {
   "cell_type": "markdown",
   "id": "832f60cb-6b57-466b-ba4b-abfba870f125",
   "metadata": {},
   "source": [
    "## 刪除空值過多欄位"
   ]
  },
  {
   "cell_type": "code",
   "execution_count": 12,
   "id": "2728a872-57c1-45a6-887b-e76bcb78ba46",
   "metadata": {},
   "outputs": [],
   "source": [
    "train_miss=train.isnull().mean()*100\n",
    "miss_thresh=49\n",
    "train_dropcol=train_miss[train_miss>miss_thresh].index"
   ]
  },
  {
   "cell_type": "code",
   "execution_count": 13,
   "id": "924237d3-519b-444b-8b66-6710259d9ce8",
   "metadata": {},
   "outputs": [
    {
     "name": "stdout",
     "output_type": "stream",
     "text": [
      "216\n"
     ]
    }
   ],
   "source": [
    "print(len(train_dropcol))"
   ]
  },
  {
   "cell_type": "code",
   "execution_count": 14,
   "id": "9870c3b2-8c6f-4334-b043-88fb3e0e2c89",
   "metadata": {},
   "outputs": [],
   "source": [
    "train_cleaned = train.drop(columns=train_dropcol)\n",
    "test_cleaned = test.drop(columns=train_dropcol)"
   ]
  },
  {
   "cell_type": "code",
   "execution_count": 15,
   "id": "7f407034-396d-4f2d-9b2f-11cf15356669",
   "metadata": {},
   "outputs": [
    {
     "name": "stdout",
     "output_type": "stream",
     "text": [
      "(177024, 292)\n",
      "(3644, 291)\n"
     ]
    }
   ],
   "source": [
    "print(train_cleaned.shape)\n",
    "print(test_cleaned.shape)"
   ]
  },
  {
   "cell_type": "markdown",
   "id": "a5a1fa5c-58c1-46bf-86ff-8c13d7a2266b",
   "metadata": {},
   "source": [
    "## 刪除不必要欄位id"
   ]
  },
  {
   "cell_type": "code",
   "execution_count": 16,
   "id": "194b4847-8715-4fc4-8030-014ef7be7ef6",
   "metadata": {},
   "outputs": [],
   "source": [
    "train_cleaned = train_cleaned .drop('id',axis=1)\n",
    "test_cleaned = test_cleaned.drop('id',axis=1)"
   ]
  },
  {
   "cell_type": "code",
   "execution_count": 17,
   "id": "772e11da-9621-4b53-834a-dd911f5823b6",
   "metadata": {},
   "outputs": [
    {
     "name": "stdout",
     "output_type": "stream",
     "text": [
      "(177024, 291)\n",
      "(3644, 290)\n"
     ]
    }
   ],
   "source": [
    "print(train_cleaned.shape)\n",
    "print(test_cleaned.shape)"
   ]
  },
  {
   "cell_type": "markdown",
   "id": "e31d9a95-de4a-4034-b14f-5d0ff20a08f8",
   "metadata": {},
   "source": [
    "## 日期特徵擷取"
   ]
  },
  {
   "cell_type": "code",
   "execution_count": 18,
   "id": "ce1cb4b8-1320-4cbc-9bf0-7519f26c43c8",
   "metadata": {},
   "outputs": [],
   "source": [
    "def extractime(df):\n",
    "    df['time'] = pd.to_datetime(df['time'], format='%H:%M:%S').dt.time\n",
    "    hour = df['time'].apply(lambda x: x.hour)\n",
    "    minute = df['time'].apply(lambda x: x.minute)\n",
    "    new_columns = {\n",
    "        'hour_sin': np.sin(2 * np.pi * hour / 24),\n",
    "        'hour_cos': np.cos(2 * np.pi * hour / 24),\n",
    "        'minute_sin': np.sin(2 * np.pi * minute / 60),\n",
    "        'minute_cos': np.cos(2 * np.pi * minute / 60),\n",
    "    }\n",
    "    df = pd.concat([df, pd.DataFrame(new_columns)], axis=1)\n",
    "    df.drop(['time'], axis=1, inplace=True)\n",
    "    return df"
   ]
  },
  {
   "cell_type": "code",
   "execution_count": 19,
   "id": "b57919be-5118-419b-ad58-1552bed4e70f",
   "metadata": {},
   "outputs": [],
   "source": [
    "train_cleaned=extractime(train_cleaned)\n",
    "test_cleaned=extractime(test_cleaned)"
   ]
  },
  {
   "cell_type": "code",
   "execution_count": 20,
   "id": "54d47941-6c02-4c50-815e-e6204ad05656",
   "metadata": {},
   "outputs": [
    {
     "name": "stdout",
     "output_type": "stream",
     "text": [
      "(177024, 294)\n",
      "(3644, 293)\n"
     ]
    }
   ],
   "source": [
    "print(train_cleaned.shape)\n",
    "print(test_cleaned.shape)"
   ]
  },
  {
   "cell_type": "markdown",
   "id": "0a3fcc69-f7fa-47c7-8bda-bc6cd3597c49",
   "metadata": {},
   "source": [
    "## 患者Id處理"
   ]
  },
  {
   "cell_type": "code",
   "execution_count": 21,
   "id": "96be821b-96c4-40f8-ac23-1eb33411341e",
   "metadata": {},
   "outputs": [
    {
     "data": {
      "text/plain": [
       "['p01', 'p02', 'p03', 'p04', 'p05', 'p06', 'p10', 'p11', 'p12']\n",
       "Categories (9, object): ['p01', 'p02', 'p03', 'p04', ..., 'p06', 'p10', 'p11', 'p12']"
      ]
     },
     "execution_count": 21,
     "metadata": {},
     "output_type": "execute_result"
    }
   ],
   "source": [
    "train_cleaned['p_num'].unique()"
   ]
  },
  {
   "cell_type": "code",
   "execution_count": 22,
   "id": "d09bb11b-20ff-4d89-a6f1-a96bca52769e",
   "metadata": {},
   "outputs": [
    {
     "data": {
      "text/plain": [
       "['p01', 'p02', 'p04', 'p05', 'p06', ..., 'p18', 'p19', 'p21', 'p22', 'p24']\n",
       "Length: 15\n",
       "Categories (15, object): ['p01', 'p02', 'p04', 'p05', ..., 'p19', 'p21', 'p22', 'p24']"
      ]
     },
     "execution_count": 22,
     "metadata": {},
     "output_type": "execute_result"
    }
   ],
   "source": [
    "test_cleaned['p_num'].unique()"
   ]
  },
  {
   "cell_type": "code",
   "execution_count": 23,
   "id": "7724b532-a0f5-43a5-9df5-910c858045ee",
   "metadata": {},
   "outputs": [
    {
     "data": {
      "text/plain": [
       "False"
      ]
     },
     "execution_count": 23,
     "metadata": {},
     "output_type": "execute_result"
    }
   ],
   "source": [
    "set(train_cleaned['p_num'].unique()).issubset(set(test_cleaned['p_num'].unique()))"
   ]
  },
  {
   "cell_type": "code",
   "execution_count": 24,
   "id": "eab2be62-b61b-4d92-a0b0-dd2f321d8f4d",
   "metadata": {},
   "outputs": [],
   "source": [
    "unique_pnums = list(set(train_cleaned['p_num'].unique()).union(set(test_cleaned['p_num'].unique())))\n",
    "pnum_mapping = {value: idx for idx, value in enumerate(unique_pnums)}\n",
    "test_cleaned['p_num'] = test_cleaned['p_num'].map(pnum_mapping)"
   ]
  },
  {
   "cell_type": "code",
   "execution_count": 25,
   "id": "4e6515f7-9e3a-48f9-917b-59d9e3eaa64d",
   "metadata": {},
   "outputs": [
    {
     "data": {
      "text/plain": [
       "['p10',\n",
       " 'p22',\n",
       " 'p01',\n",
       " 'p06',\n",
       " 'p19',\n",
       " 'p24',\n",
       " 'p04',\n",
       " 'p18',\n",
       " 'p02',\n",
       " 'p03',\n",
       " 'p15',\n",
       " 'p21',\n",
       " 'p05',\n",
       " 'p11',\n",
       " 'p12',\n",
       " 'p16']"
      ]
     },
     "execution_count": 25,
     "metadata": {},
     "output_type": "execute_result"
    }
   ],
   "source": [
    "unique_pnums"
   ]
  },
  {
   "cell_type": "code",
   "execution_count": 26,
   "id": "1b97a7cd-32c0-413b-b397-bd74d6358950",
   "metadata": {},
   "outputs": [
    {
     "data": {
      "text/plain": [
       "{'p10': 0,\n",
       " 'p22': 1,\n",
       " 'p01': 2,\n",
       " 'p06': 3,\n",
       " 'p19': 4,\n",
       " 'p24': 5,\n",
       " 'p04': 6,\n",
       " 'p18': 7,\n",
       " 'p02': 8,\n",
       " 'p03': 9,\n",
       " 'p15': 10,\n",
       " 'p21': 11,\n",
       " 'p05': 12,\n",
       " 'p11': 13,\n",
       " 'p12': 14,\n",
       " 'p16': 15}"
      ]
     },
     "execution_count": 26,
     "metadata": {},
     "output_type": "execute_result"
    }
   ],
   "source": [
    "pnum_mapping"
   ]
  },
  {
   "cell_type": "code",
   "execution_count": 27,
   "id": "f928eca8-360f-40ab-84be-dce0dc19682a",
   "metadata": {},
   "outputs": [],
   "source": [
    "train_cleaned['p_num'] = train_cleaned['p_num'].map(pnum_mapping)"
   ]
  },
  {
   "cell_type": "markdown",
   "id": "6a923120-ba6c-4aba-8c61-b93b72cced79",
   "metadata": {},
   "source": [
    "## 類別欄位(activity)檢查"
   ]
  },
  {
   "cell_type": "code",
   "execution_count": 28,
   "id": "a2e10bad-1b68-4307-9193-217d873beb0d",
   "metadata": {},
   "outputs": [],
   "source": [
    "act_col=[col for col in train_cleaned.columns if col.startswith('activity')]"
   ]
  },
  {
   "cell_type": "code",
   "execution_count": 29,
   "id": "19608d53-97cc-4d78-82e6-892b020f0899",
   "metadata": {},
   "outputs": [
    {
     "name": "stdout",
     "output_type": "stream",
     "text": [
      "0\n"
     ]
    }
   ],
   "source": [
    "print(len(act_col))"
   ]
  },
  {
   "cell_type": "markdown",
   "id": "13e7b966-8f89-4602-81a5-814f4e0b5d3f",
   "metadata": {},
   "source": [
    "## 補空值"
   ]
  },
  {
   "cell_type": "code",
   "execution_count": 30,
   "id": "cc53c67a-c936-4eb0-84af-6bfef36524aa",
   "metadata": {},
   "outputs": [
    {
     "data": {
      "text/plain": [
       "p_num          0.000000\n",
       "bg-5:55       15.395653\n",
       "bg-5:50       10.445476\n",
       "bg-5:45        7.716468\n",
       "bg-5:40       15.397912\n",
       "                ...    \n",
       "bg+1:00        0.000000\n",
       "hour_sin       0.000000\n",
       "hour_cos       0.000000\n",
       "minute_sin     0.000000\n",
       "minute_cos     0.000000\n",
       "Length: 294, dtype: float64"
      ]
     },
     "execution_count": 30,
     "metadata": {},
     "output_type": "execute_result"
    }
   ],
   "source": [
    "train_cleaned.isnull().mean()*100"
   ]
  },
  {
   "cell_type": "code",
   "execution_count": 31,
   "id": "fd962703-e37d-45e0-8b23-ebf2babb6542",
   "metadata": {},
   "outputs": [
    {
     "data": {
      "text/plain": [
       "p_num          0.000000\n",
       "bg-5:55       27.003293\n",
       "bg-5:50       15.998902\n",
       "bg-5:45       13.336992\n",
       "bg-5:40       27.058178\n",
       "                ...    \n",
       "cals-0:00     14.324918\n",
       "hour_sin       0.000000\n",
       "hour_cos       0.000000\n",
       "minute_sin     0.000000\n",
       "minute_cos     0.000000\n",
       "Length: 293, dtype: float64"
      ]
     },
     "execution_count": 31,
     "metadata": {},
     "output_type": "execute_result"
    }
   ],
   "source": [
    "test_cleaned.isnull().mean()*100"
   ]
  },
  {
   "cell_type": "code",
   "execution_count": 32,
   "id": "4286bf56-9dd2-48c2-9644-03566e242eb2",
   "metadata": {},
   "outputs": [],
   "source": [
    "from sklearn.impute import SimpleImputer\n",
    "imputer = SimpleImputer(strategy='mean')\n",
    "train_imputed = imputer.fit_transform(train_cleaned.drop('bg+1:00',axis=1))\n",
    "test_imputed = imputer.transform(test_cleaned)"
   ]
  },
  {
   "cell_type": "code",
   "execution_count": 33,
   "id": "b29ec3aa-974a-4feb-b63f-ff1fd5525c75",
   "metadata": {},
   "outputs": [],
   "source": [
    "train_target=train_cleaned['bg+1:00']"
   ]
  },
  {
   "cell_type": "code",
   "execution_count": 34,
   "id": "e3cddd1f-ec25-40f5-a6da-e36b0c056a1f",
   "metadata": {},
   "outputs": [],
   "source": [
    "columns = list(train_cleaned.columns)  \n",
    "columns.remove('bg+1:00')\n",
    "train_cleaned = pd.DataFrame(train_imputed, columns=columns)\n",
    "test_cleaned = pd.DataFrame(test_imputed, columns=test_cleaned.columns)"
   ]
  },
  {
   "cell_type": "code",
   "execution_count": 35,
   "id": "58d6e910-1a3a-4ac8-ada1-250011086c6f",
   "metadata": {},
   "outputs": [],
   "source": [
    "train_cleaned['bg+1:00']=train_target"
   ]
  },
  {
   "cell_type": "code",
   "execution_count": 36,
   "id": "32955849-62d2-4f53-9c9f-c2ecd9d670a8",
   "metadata": {},
   "outputs": [
    {
     "name": "stdout",
     "output_type": "stream",
     "text": [
      "(177024, 294)\n",
      "(3644, 293)\n"
     ]
    }
   ],
   "source": [
    "print(train_cleaned.shape)\n",
    "print(test_cleaned.shape)"
   ]
  },
  {
   "cell_type": "code",
   "execution_count": 37,
   "id": "edc6e4e1-51db-4175-b194-a850bb5dc7af",
   "metadata": {},
   "outputs": [
    {
     "name": "stdout",
     "output_type": "stream",
     "text": [
      "所有欄位皆沒有空值\n"
     ]
    }
   ],
   "source": [
    "train_miss_summary = train_cleaned.isnull().sum()\n",
    "if train_miss_summary.sum() == 0:\n",
    "    print(\"所有欄位皆沒有空值\")\n",
    "else:\n",
    "    print(\"以下欄位有空值：\")\n",
    "    print(train_miss_summary[train_miss_summary > 0])"
   ]
  },
  {
   "cell_type": "code",
   "execution_count": 38,
   "id": "ff6c9722-ed1c-4f85-8293-c0cce48a0200",
   "metadata": {},
   "outputs": [
    {
     "name": "stdout",
     "output_type": "stream",
     "text": [
      "所有欄位皆沒有空值\n"
     ]
    }
   ],
   "source": [
    "test_miss_summary = test_cleaned.isnull().sum()\n",
    "if test_miss_summary.sum() == 0:\n",
    "    print(\"所有欄位皆沒有空值\")\n",
    "else:\n",
    "    print(\"以下欄位有空值：\")\n",
    "    print(test_miss_summary[test_miss_summary > 0])"
   ]
  },
  {
   "cell_type": "code",
   "execution_count": 39,
   "id": "1e08c9a2-655f-4187-9bce-f7a2f6b2e218",
   "metadata": {},
   "outputs": [],
   "source": [
    "# train_cleaned.to_csv('train_cleaned.csv',index=False)\n",
    "# test_cleaned.to_csv('test_cleaned.csv',index=False)"
   ]
  },
  {
   "cell_type": "markdown",
   "id": "11f43451-c75b-408e-aeb7-4f64d22b77e5",
   "metadata": {},
   "source": [
    "## 分割資料"
   ]
  },
  {
   "cell_type": "code",
   "execution_count": 40,
   "id": "c4393f4b-7f95-413b-b045-06c8d48cc274",
   "metadata": {},
   "outputs": [],
   "source": [
    "X= train_cleaned.drop('bg+1:00', axis=1)\n",
    "y = train_cleaned['bg+1:00']"
   ]
  },
  {
   "cell_type": "code",
   "execution_count": 41,
   "id": "6d7e2f02-65fd-4103-bc07-f3b31dd8ef97",
   "metadata": {},
   "outputs": [],
   "source": [
    "from sklearn.model_selection import train_test_split\n",
    "X_train, X_val, y_train, y_val = train_test_split(X, y, test_size = 0.2 , random_state = 42)"
   ]
  },
  {
   "cell_type": "markdown",
   "id": "3aa99548-4517-4068-bc7e-b0b08535b115",
   "metadata": {},
   "source": [
    "## 模型測試"
   ]
  },
  {
   "cell_type": "code",
   "execution_count": 42,
   "id": "1b71db7c-02a7-4a19-9390-9ac8c3bc7e18",
   "metadata": {},
   "outputs": [
    {
     "name": "stdout",
     "output_type": "stream",
     "text": [
      "訓練集 Score:  0.7286968485099772\n",
      "測試集 Score:  0.634854006793717\n"
     ]
    }
   ],
   "source": [
    "from xgboost import XGBRegressor\n",
    "xgboostModel = XGBRegressor()\n",
    "xgboostModel.fit(X_train, y_train)\n",
    "predicted = xgboostModel.predict(X_train)\n",
    "print(\"訓練集 Score: \", xgboostModel.score(X_train,y_train))\n",
    "print(\"測試集 Score: \", xgboostModel.score(X_val,y_val))"
   ]
  },
  {
   "cell_type": "code",
   "execution_count": 43,
   "id": "a04d6012-c83e-4149-8d3d-be20a5de36ed",
   "metadata": {},
   "outputs": [
    {
     "name": "stdout",
     "output_type": "stream",
     "text": [
      "訓練集 MSE:  2.4313378\n",
      "測試集 MSE:  3.302721\n"
     ]
    }
   ],
   "source": [
    "from sklearn import metrics\n",
    "train_pred = xgboostModel.predict(X_train)\n",
    "mse = metrics.mean_squared_error(y_train, train_pred)\n",
    "print('訓練集 MSE: ', mse)\n",
    "\n",
    "val_pred = xgboostModel.predict(X_val)\n",
    "mse = metrics.mean_squared_error(y_val, val_pred)\n",
    "print('測試集 MSE: ', mse)"
   ]
  },
  {
   "cell_type": "code",
   "execution_count": null,
   "id": "9f07aaf4-5cc3-48ac-9ba3-362d0e931203",
   "metadata": {},
   "outputs": [],
   "source": []
  },
  {
   "cell_type": "code",
   "execution_count": null,
   "id": "d3c3b6c1-e043-4ee0-937e-0cda40a1bb3d",
   "metadata": {},
   "outputs": [],
   "source": []
  }
 ],
 "metadata": {
  "kernelspec": {
   "display_name": "nchu",
   "language": "python",
   "name": "niche"
  },
  "language_info": {
   "codemirror_mode": {
    "name": "ipython",
    "version": 3
   },
   "file_extension": ".py",
   "mimetype": "text/x-python",
   "name": "python",
   "nbconvert_exporter": "python",
   "pygments_lexer": "ipython3",
   "version": "3.10.16"
  }
 },
 "nbformat": 4,
 "nbformat_minor": 5
}
